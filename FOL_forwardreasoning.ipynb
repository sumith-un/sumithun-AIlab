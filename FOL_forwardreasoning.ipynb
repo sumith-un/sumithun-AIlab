{
  "nbformat": 4,
  "nbformat_minor": 0,
  "metadata": {
    "colab": {
      "provenance": []
    },
    "kernelspec": {
      "name": "python3",
      "display_name": "Python 3"
    },
    "language_info": {
      "name": "python"
    }
  },
  "cells": [
    {
      "cell_type": "code",
      "execution_count": 12,
      "metadata": {
        "colab": {
          "base_uri": "https://localhost:8080/"
        },
        "id": "vZlN24tFdF5v",
        "outputId": "4faf6580-2f02-4867-8362-a6b79daa3fad"
      },
      "outputs": [
        {
          "output_type": "stream",
          "name": "stdout",
          "text": [
            "1BM22C297\n",
            "Rule applied: {'conditions': {'cough', 'fever'}, 'conclusion': 'flu'}\n",
            "New fact inferred: flu\n",
            "\n",
            "Final Facts: {'cough', 'flu', 'fever'}\n",
            "Inferred Facts: {'flu'}\n"
          ]
        }
      ],
      "source": [
        "print('1BM22C297')\n",
        "\n",
        "\n",
        "rules = [\n",
        "    {\"conditions\": {\"fever\", \"cough\"}, \"conclusion\": \"flu\"},\n",
        "    {\"conditions\": {\"headache\", \"fever\"}, \"conclusion\": \"dengue\"},\n",
        "    {\"conditions\": {\"rash\", \"fever\"}, \"conclusion\": \"measles\"},\n",
        "]\n",
        "\n",
        "facts = {\"fever\", \"cough\"}\n",
        "\n",
        "def forward_reasoning(facts, rules, goal=None):\n",
        "    inferred = set()\n",
        "    applied_rules = set()\n",
        "\n",
        "    while True:\n",
        "        rule_applied = False\n",
        "\n",
        "        for i, rule in enumerate(rules):\n",
        "            if i not in applied_rules and rule[\"conditions\"].issubset(facts):\n",
        "                new_fact = rule[\"conclusion\"]\n",
        "                if new_fact not in facts:\n",
        "                    inferred.add(new_fact)\n",
        "                    facts.add(new_fact)\n",
        "                    rule_applied = True\n",
        "                    applied_rules.add(i)\n",
        "\n",
        "                    print(f\"Rule applied: {rule}\")\n",
        "                    print(f\"New fact inferred: {new_fact}\")\n",
        "\n",
        "                if goal and goal in facts:\n",
        "                    return facts, inferred\n",
        "\n",
        "        if not rule_applied:\n",
        "            break\n",
        "\n",
        "    return facts, inferred\n",
        "\n",
        "goal = \"flu\"\n",
        "final_facts, inferred_facts = forward_reasoning(facts, rules, goal)\n",
        "\n",
        "print(\"\\nFinal Facts:\", final_facts)\n",
        "print(\"Inferred Facts:\", inferred_facts)\n"
      ]
    },
    {
      "cell_type": "code",
      "source": [],
      "metadata": {
        "id": "Ld89YwA8fdED"
      },
      "execution_count": null,
      "outputs": []
    }
  ]
}