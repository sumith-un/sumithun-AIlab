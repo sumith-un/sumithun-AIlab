{
  "nbformat": 4,
  "nbformat_minor": 0,
  "metadata": {
    "colab": {
      "provenance": []
    },
    "kernelspec": {
      "name": "python3",
      "display_name": "Python 3"
    },
    "language_info": {
      "name": "python"
    }
  },
  "cells": [
    {
      "cell_type": "code",
      "source": [
        "def unify(x, y, subst=None):\n",
        "    \"\"\"\n",
        "    Implements the Unification algorithm for First Order Logic (FOL).\n",
        "    :param x: First expression\n",
        "    :param y: Second expression\n",
        "    :param subst: Current set of substitutions (default: empty dictionary)\n",
        "    :return: Substitution set if unification is possible, or \"FAILURE\"\n",
        "    \"\"\"\n",
        "    if subst is None:\n",
        "        subst = {}\n",
        "\n",
        "    # Step 1: If x and y are the same, return the current substitutions\n",
        "    if x == y:\n",
        "        return subst\n",
        "\n",
        "    # If x is a variable\n",
        "    if is_variable(x):\n",
        "        return unify_var(x, y, subst)\n",
        "\n",
        "    # If y is a variable\n",
        "    if is_variable(y):\n",
        "        return unify_var(y, x, subst)\n",
        "\n",
        "    # If x and y are compound expressions\n",
        "    if is_compound(x) and is_compound(y):\n",
        "        if get_predicate(x) != get_predicate(y):\n",
        "            return \"FAILURE\"\n",
        "        return unify(get_args(x), get_args(y), subst)\n",
        "\n",
        "    # If x and y are lists\n",
        "    if isinstance(x, list) and isinstance(y, list):\n",
        "        if len(x) != len(y):\n",
        "            return \"FAILURE\"\n",
        "        if not x and not y:\n",
        "            return subst\n",
        "        return unify(x[1:], y[1:], unify(x[0], y[0], subst))\n",
        "\n",
        "    # If x and y are constants or cannot be unified\n",
        "    return \"FAILURE\"\n",
        "\n",
        "\n",
        "def unify_var(var, x, subst):\n",
        "    \"\"\"\n",
        "    Handles the unification of a variable with another term.\n",
        "    :param var: Variable\n",
        "    :param x: Term to unify with\n",
        "    :param subst: Current substitution set\n",
        "    :return: Updated substitution set or \"FAILURE\"\n",
        "    \"\"\"\n",
        "    if var in subst:\n",
        "        return unify(subst[var], x, subst)\n",
        "    if x in subst:\n",
        "        return unify(var, subst[x], subst)\n",
        "    if occurs_check(var, x):\n",
        "        return \"FAILURE\"\n",
        "    subst[var] = x\n",
        "    return subst\n",
        "\n",
        "\n",
        "def occurs_check(var, x):\n",
        "    \"\"\"\n",
        "    Checks if the variable appears in the term, to prevent infinite loops.\n",
        "    :param var: Variable\n",
        "    :param x: Term to check against\n",
        "    :return: True if var occurs in x, False otherwise\n",
        "    \"\"\"\n",
        "    if var == x:\n",
        "        return True\n",
        "    if isinstance(x, list):\n",
        "        return any(occurs_check(var, arg) for arg in x)\n",
        "    return False\n",
        "\n",
        "\n",
        "def is_variable(x):\n",
        "    \"\"\"\n",
        "    Determines if a term is a variable.\n",
        "    :param x: Term\n",
        "    :return: True if x is a variable, False otherwise\n",
        "    \"\"\"\n",
        "    return isinstance(x, str) and x.islower()  # Variables are lowercase strings\n",
        "\n",
        "\n",
        "def is_compound(x):\n",
        "    \"\"\"\n",
        "    Checks if a term is a compound expression.\n",
        "    :param x: Term\n",
        "    :return: True if x is compound, False otherwise\n",
        "    \"\"\"\n",
        "    return isinstance(x, str) and '(' in x and ')' in x\n",
        "\n",
        "\n",
        "def get_predicate(x):\n",
        "    \"\"\"\n",
        "    Extracts the predicate of a compound expression.\n",
        "    :param x: Compound expression\n",
        "    :return: Predicate\n",
        "    \"\"\"\n",
        "    return x.split('(')[0]\n",
        "\n",
        "\n",
        "def get_args(x):\n",
        "    \"\"\"\n",
        "    Extracts the arguments of a compound expression.\n",
        "    :param x: Compound expression\n",
        "    :return: List of arguments\n",
        "    \"\"\"\n",
        "    return x[x.index('(') + 1:x.index(')')].split(',')\n",
        "\n",
        "\n",
        "# Test cases\n",
        "x1 = \"f(x, y)\"\n",
        "x2 = \"f(a, b)\"\n",
        "print(unify(x1, x2))  # Expected: {'x': 'a', 'y': 'b'}\n",
        "\n",
        "x3 = \"p(x, g(y))\"\n",
        "x4 = \"p(f(a), g(b))\"\n",
        "print(unify(x3, x4))  # Expected: {'x': 'f(a)', 'y': 'b'}\n"
      ],
      "metadata": {
        "colab": {
          "base_uri": "https://localhost:8080/"
        },
        "id": "U3WiwgDXdlJ5",
        "outputId": "d6706545-e05a-40ae-d614-08a72e2a47cf"
      },
      "execution_count": 18,
      "outputs": [
        {
          "output_type": "stream",
          "name": "stdout",
          "text": [
            "{'f(x, y)': 'f(a, b)'}\n",
            "{'p(x, g(y))': 'p(f(a), g(b))'}\n"
          ]
        }
      ]
    },
    {
      "cell_type": "code",
      "source": [
        "expression_a = \"Eats(x, Apple)\"\n",
        "expression_b = \"Eats(Riya, y)\"\n",
        "\n",
        "# Perform unification\n",
        "substitution = unify(expression_a, expression_b)\n",
        "\n",
        "# Print the result\n",
        "if substitution == \"FAILURE\":\n",
        "    print(\"Unification failed.\")\n",
        "else:\n",
        "    print(\"Unification successful:\")\n",
        "    print(substitution)"
      ],
      "metadata": {
        "colab": {
          "base_uri": "https://localhost:8080/"
        },
        "id": "l4w5tpkPhe9i",
        "outputId": "859200a7-b769-4c45-f017-908ca209ce54"
      },
      "execution_count": 19,
      "outputs": [
        {
          "output_type": "stream",
          "name": "stdout",
          "text": [
            "Unification successful:\n",
            "{'x': 'Riya', ' y': ' Apple'}\n"
          ]
        }
      ]
    },
    {
      "cell_type": "code",
      "source": [],
      "metadata": {
        "id": "j8-8xbkBjdJy"
      },
      "execution_count": null,
      "outputs": []
    }
  ]
}